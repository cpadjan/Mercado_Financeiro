{
 "cells": [
  {
   "cell_type": "code",
   "execution_count": 1,
   "id": "72872484-dc45-4e58-b31a-ab0d4bfa8e04",
   "metadata": {
    "tags": []
   },
   "outputs": [],
   "source": [
    "%%capture\n",
    "%%configure -f\n",
    "{ \"conf\":{\n",
    "          \"spark.pyspark.python\": \"python3\",\n",
    "          \"spark.pyspark.virtualenv.enabled\": \"true\",\n",
    "          \"spark.pyspark.virtualenv.type\":\"native\",\n",
    "          \"spark.pyspark.virtualenv.bin.path\":\"/usr/bin/virtualenv\",\n",
    "          \"spark.app.name\": \"Acompanha o salda da conta corrente (Banco Bradesco) no intervalo dos arquivos(cnab240) recebidos\"\n",
    "         },\n",
    "\"kind\":\"pyspark\"\n",
    "\"driverMemory\": \"8000M\"\n",
    "}"
   ]
  },
  {
   "cell_type": "code",
   "execution_count": 2,
   "id": "1e6282d9-7505-451c-a3b8-cbcb231a5cc5",
   "metadata": {},
   "outputs": [
    {
     "name": "stdout",
     "output_type": "stream",
     "text": [
      "Starting Spark application\n"
     ]
    },
    {
     "data": {
      "text/html": [
       "<table>\n",
       "<tr><th>ID</th><th>YARN Application ID</th><th>Kind</th><th>State</th><th>Spark UI</th><th>Driver log</th><th>User</th><th>Current session?</th></tr><tr><td>1220</td><td>application_1681166481024_153634</td><td>pyspark</td><td>idle</td><td><a target=\"_blank\" href=\"http://ip-10-150-1-47.ec2.internal:20888/proxy/application_1681166481024_153634/\">Link</a></td><td><a target=\"_blank\" href=\"http://ip-10-150-1-132.ec2.internal:8042/node/containerlogs/container_1681166481024_153634_01_000001/livy\">Link</a></td><td>None</td><td>✔</td></tr></table>"
      ],
      "text/plain": [
       "<IPython.core.display.HTML object>"
      ]
     },
     "metadata": {},
     "output_type": "display_data"
    },
    {
     "data": {
      "application/vnd.jupyter.widget-view+json": {
       "model_id": "",
       "version_major": 2,
       "version_minor": 0
      },
      "text/plain": [
       "FloatProgress(value=0.0, bar_style='info', description='Progress:', layout=Layout(height='25px', width='50%'),…"
      ]
     },
     "metadata": {},
     "output_type": "display_data"
    },
    {
     "name": "stdout",
     "output_type": "stream",
     "text": [
      "SparkSession available as 'spark'.\n"
     ]
    },
    {
     "data": {
      "application/vnd.jupyter.widget-view+json": {
       "model_id": "",
       "version_major": 2,
       "version_minor": 0
      },
      "text/plain": [
       "FloatProgress(value=0.0, bar_style='info', description='Progress:', layout=Layout(height='25px', width='50%'),…"
      ]
     },
     "metadata": {},
     "output_type": "display_data"
    }
   ],
   "source": [
    "\n",
    "# importa as bibliotecas\n",
    "\n",
    "from pyspark.sql.types import StringType\n",
    "from pyspark.sql.functions import *\n",
    "\n",
    "import boto3\n",
    "import pandas as pd\n",
    "from datetime import datetime, timedelta\n",
    "import pytz\n",
    "from slack_sdk.webhook import WebhookClient\n"
   ]
  },
  {
   "cell_type": "code",
   "execution_count": 3,
   "id": "ca2a5a8b-60c1-46a4-b653-afe32ff40b53",
   "metadata": {},
   "outputs": [
    {
     "data": {
      "application/vnd.jupyter.widget-view+json": {
       "model_id": "",
       "version_major": 2,
       "version_minor": 0
      },
      "text/plain": [
       "FloatProgress(value=0.0, bar_style='info', description='Progress:', layout=Layout(height='25px', width='50%'),…"
      ]
     },
     "metadata": {},
     "output_type": "display_data"
    }
   ],
   "source": [
    "\n",
    "# lista os arquivos que estão na pasta \n",
    "\n",
    "def lista_arquivo():\n",
    "    \n",
    "    # Lista os arquivos que estão na pasta e captura o mais recente\n",
    "    \n",
    "\n",
    "    hoje = datetime.now(pytz.timezone('America/Sao_Paulo'))\n",
    "    \n",
    "    \n",
    "    # Verifica se é segunda-feira - primeiro arquivo vem no sabado\n",
    "    # 0 é segunda-feira\n",
    "    \n",
    "    num = hoje.weekday()    \n",
    "    if num == 0:\n",
    "        td = timedelta(2)\n",
    "    else:    \n",
    "        td = timedelta(0)\n",
    "        \n",
    "    \n",
    "    dia_atual = hoje - td\n",
    "    \n",
    "    data_atual_str = dia_atual.strftime('%Y-%m-%d')\n",
    "\n",
    "    s3_client = boto3.client(\"s3\")\n",
    "    bucket_name = 'bucket_name'\n",
    "    response = s3_client.list_objects_v2(Bucket=bucket_name, Prefix='pasta_arquivos', Delimiter='/')\n",
    "    files = response.get(\"Contents\", [])\n",
    "\n",
    "    arqs = pd.DataFrame(files)\n",
    "    \n",
    "    arqs = arqs[['Key', 'LastModified']]\n",
    "\n",
    "    arqs = arqs.sort_values(by=['LastModified'], ascending=False)\n",
    "\n",
    "    arqs['LastModified'] = arqs['LastModified'].dt.tz_convert('America/Sao_Paulo')\n",
    "\n",
    "    arqs = arqs[arqs['LastModified'].dt.strftime('%Y-%m-%d') >= data_atual_str]\n",
    "    \n",
    "    return arqs\n",
    "\n"
   ]
  },
  {
   "cell_type": "code",
   "execution_count": 4,
   "id": "9ac4155e-7c5c-40fc-9343-738c1a4c304a",
   "metadata": {
    "tags": []
   },
   "outputs": [
    {
     "data": {
      "application/vnd.jupyter.widget-view+json": {
       "model_id": "",
       "version_major": 2,
       "version_minor": 0
      },
      "text/plain": [
       "FloatProgress(value=0.0, bar_style='info', description='Progress:', layout=Layout(height='25px', width='50%'),…"
      ]
     },
     "metadata": {},
     "output_type": "display_data"
    }
   ],
   "source": [
    "\n",
    "#### SALDO DE ABERTURA\n",
    "\n",
    "def primeiro_arquivo():\n",
    "    \n",
    "    # Captura o primeiro arquivo do dia\n",
    "    arq_primeiro = lista_arquivo().iloc[len(lista_arquivo())-1][0]\n",
    "\n",
    "\n",
    "    # Abre o arquivo na AWS- S3 e coloca em uma tabela\n",
    "    arq_cnab_primeiro = spark.read.format('csv').option('header', 'false').load(f's3://bucket{arq_primeiro}')\n",
    "    arq_cnab_primeiro.createOrReplaceTempView('cnab_bradesco_primeiro')\n",
    "\n",
    "    # captura a data e hora do primeiro arquivo\n",
    "    qyery_arq_1 = '''\n",
    "        SELECT \n",
    "        substring(_c0, 8, 1) as Registro ,\n",
    "        concat(to_date(substring(_c0, 144, 8), 'ddMMyyyy'), \" \",substring(_c0, 152, 2), \":\" , substring(_c0, 154, 2), \":\", substring(_c0, 156, 2)) as Data_Hora_Arquivo_str_Abertura\n",
    "\n",
    "        FROM cnab_bradesco_primeiro\n",
    "        WHERE substring(_c0, 8, 1) = '0'\n",
    "    '''\n",
    "    consulta_cnab_abertura = spark.sql(qyery_arq_1)\n",
    "\n",
    "    data_aberura = consulta_cnab_abertura.collect()[0][1]\n",
    "\n",
    "\n",
    "    # Procura dentro da tabela acima o saldo de abertura da conta\n",
    "    query_lcto = '''\n",
    "                SELECT \n",
    "                    substring(_c0, 8, 1) as Registro , \n",
    "                    substring(_c0, 59, 12) as Conta , \n",
    "                    substring(_c0, 151, 18) / 100 as Valor ,\n",
    "                    substring(_c0, 170, 3) as Categoria ,\n",
    "                    substring(_c0, 169, 1) as Tipo,\n",
    "                    to_date(substring(_c0, 143, 8), 'ddMMyyyy') as Data_lancamento\n",
    "\n",
    "                    FROM cnab_bradesco_primeiro \n",
    "                    WHERE substring(_c0, 8, 1) = '5' \n",
    "                    AND substring(_c0, 59, 12) = 8230\n",
    "                '''\n",
    "\n",
    "    consulta_cnab = spark.sql(query_lcto)    \n",
    "\n",
    "    saldo_conta_abertura = consulta_cnab.collect()[0][2]\n",
    "    \n",
    "    return saldo_conta_abertura, data_aberura, arq_primeiro\n",
    "\n",
    "\n",
    "# Executa 1x a consulta, depois o valor fica fixo até o dia seguinte\n",
    "\n",
    "saldo_conta_abertura_g = primeiro_arquivo()[0]\n",
    "data_aberura_g = primeiro_arquivo()[1]\n"
   ]
  },
  {
   "cell_type": "code",
   "execution_count": 5,
   "id": "3858ceae-70df-4e0c-85ea-4fe5677b6090",
   "metadata": {
    "tags": []
   },
   "outputs": [
    {
     "data": {
      "application/vnd.jupyter.widget-view+json": {
       "model_id": "",
       "version_major": 2,
       "version_minor": 0
      },
      "text/plain": [
       "FloatProgress(value=0.0, bar_style='info', description='Progress:', layout=Layout(height='25px', width='50%'),…"
      ]
     },
     "metadata": {},
     "output_type": "display_data"
    }
   ],
   "source": [
    "\n",
    "#### SALDO e APORTES DO ULTIMO ARQUIVO \n",
    "\n",
    "import pyspark.sql.functions as F \n",
    "\n",
    "def ultimo_arquivo_saldos_aportes():\n",
    "    \n",
    "    # captura o ultimo arquivo\n",
    "    arq_ultimo = lista_arquivo().iloc[0][0]\n",
    "\n",
    "    # Abre o arquivo na AWS- S3 e coloca em uma tabela\n",
    "    arq_cnab_ultimo = spark.read.format('csv').option('header', 'false').load(f'bucket/{arq_ultimo}')\n",
    "    arq_cnab_ultimo.createOrReplaceTempView('cnab_bradesco')\n",
    "\n",
    "\n",
    "    # Procura na tabela a linha '0' (zero) e traz a data e hora que gerou o arquivo\n",
    "    #  a data inicial passa a ser essa data/hora\n",
    "    qyery_arq = '''\n",
    "        SELECT \n",
    "        substring(_c0, 8, 1) as Registro ,\n",
    "        concat(to_date(substring(_c0, 144, 8), 'ddMMyyyy'), \" \",substring(_c0, 152, 2), \":\" , substring(_c0, 154, 2), \":\", substring(_c0, 156, 2)) as Data_Hora_Arquivo_str\n",
    "\n",
    "        FROM cnab_bradesco\n",
    "        WHERE substring(_c0, 8, 1) = '0'\n",
    "    '''\n",
    "    consulta_cnab = spark.sql(qyery_arq)\n",
    "    \n",
    "    data_inicio = consulta_cnab.collect()[0][1]\n",
    "\n",
    "\n",
    "    # Procura dentro da tabela acima o saldo da conta 8230\n",
    "    #  atribui o saldo da conta na variavel valor\n",
    "    query_lcto = '''\n",
    "                SELECT \n",
    "                    substring(_c0, 8, 1) as Registro , \n",
    "                    substring(_c0, 59, 12) as Conta , \n",
    "                    substring(_c0, 151, 18) / 100 as Valor ,\n",
    "                    substring(_c0, 170, 3) as Categoria ,\n",
    "                    substring(_c0, 169, 1) as Tipo,\n",
    "                    to_date(substring(_c0, 143, 8), 'ddMMyyyy') as Data_lancamento\n",
    "\n",
    "                    FROM cnab_bradesco \n",
    "                    WHERE substring(_c0, 8, 1) = '5' \n",
    "                    AND substring(_c0, 59, 12) = 8230\n",
    "                '''\n",
    "\n",
    "    consulta_cnab = spark.sql(query_lcto)   \n",
    "\n",
    "    saldo_conta = consulta_cnab.collect()[0][2]\n",
    "    \n",
    "    ## APORTES REALIZADOS\n",
    "    \n",
    "    query_lcto = '''\n",
    "            SELECT \n",
    "                substring(_c0, 8, 1) as Registro , \n",
    "                substring(_c0, 59, 12) as Conta , \n",
    "                substring(_c0, 151, 18) / 100 as Valor ,\n",
    "                substring(_c0, 169, 1) as Tipo,\n",
    "                substring(_c0, 170, 3) as Cod_Lcto,\n",
    "                to_date(substring(_c0, 143, 8), 'ddMMyyyy') as Data_lancamento\n",
    "\n",
    "                FROM cnab_bradesco \n",
    "                WHERE substring(_c0, 8, 1) = '3' \n",
    "                AND substring(_c0, 59, 12) = 8230\n",
    "                AND substring(_c0, 169, 1) = 'C'\n",
    "                AND substring(_c0, 170, 3) = 209\n",
    "            '''\n",
    "\n",
    "    consulta_cnab_aporte = spark.sql(query_lcto)\n",
    "    \n",
    "    total_aporte = consulta_cnab_aporte.agg(F.sum(\"Valor\")).collect()[0][0]    \n",
    "    \n",
    "    return saldo_conta, data_inicio, total_aporte"
   ]
  },
  {
   "cell_type": "code",
   "execution_count": 6,
   "id": "b064a2c7-afc1-4712-8674-42c12fcc2429",
   "metadata": {},
   "outputs": [
    {
     "data": {
      "application/vnd.jupyter.widget-view+json": {
       "model_id": "",
       "version_major": 2,
       "version_minor": 0
      },
      "text/plain": [
       "FloatProgress(value=0.0, bar_style='info', description='Progress:', layout=Layout(height='25px', width='50%'),…"
      ]
     },
     "metadata": {},
     "output_type": "display_data"
    }
   ],
   "source": [
    "\n",
    "# total liquidado no periodo entre o ult arquivo é a hora da msg\n",
    "\n",
    "def total_liq_periodo():\n",
    "    data_atual_str = datetime.now(pytz.timezone('America/Sao_Paulo')).strftime('%Y-%m-%d %H:%M:%S')        # pega a data/hora atual e ajusta o timezone\n",
    "    data_hoje = datetime.now(pytz.timezone('America/Sao_Paulo')).strftime('%Y-%m-%d')\n",
    "\n",
    "    data_inicio = ultimo_arquivo_saldos_aportes()[1]\n",
    "\n",
    "    query = f'''\n",
    "            SELECT para consultar o total liquidado no dia dentro do sistema'\n",
    "         '''\n",
    "    consulta = spark.sql(query)                              # executa a query\n",
    "\n",
    "    consulta_dia = consulta.groupby(to_date(\"data\")).sum('valor')\n",
    "\n",
    "    total_dia = consulta_dia.collect()[0][1]\n",
    "\n",
    "    consulta_periodo = consulta.filter((consulta.data > data_inicio) & (consulta.data < data_atual_str) )\n",
    "\n",
    "    total_periodo_df = consulta_periodo.groupby(to_date(\"data\")).sum('amount')\n",
    "\n",
    "    total_periodo = total_periodo_df.collect()[0][1]\n",
    "    \n",
    "    return total_periodo, total_dia   \n"
   ]
  },
  {
   "cell_type": "code",
   "execution_count": 25,
   "id": "3eff5f29-f87c-48b9-9a06-4fdd077e3f50",
   "metadata": {},
   "outputs": [],
   "source": [
    "\n",
    "\n",
    "def montar_mensgem():\n",
    "\n",
    "    saldo_conta_abertura = saldo_conta_abertura_g\n",
    "    data_aberura = data_aberura_g\n",
    "    saldo_conta = ultimo_arquivo_saldos_aportes()[0]\n",
    "    data_inicio = ultimo_arquivo_saldos_aportes()[1]\n",
    "    total_aporte = ultimo_arquivo_saldos_aportes()[2]\n",
    "    total_liq = total_liq_periodo()[1]\n",
    "    total_liq_dia = total_liq_periodo()[0]\n",
    "    \n",
    "    saldo_atual = saldo_conta - total_liq\n",
    "\n",
    "    mensagem = f'''\n",
    "    Bradesco - conta 8230-9\\n\n",
    "    Saldo Abertura do dia : R$ {saldo_conta_abertura:,.2f} em {data_aberura}\\n\\n\n",
    "    Total de aportes: R$ {total_aporte:,.2f}\\n    \n",
    "    Total liquidado: R$ - {total_liq:,.2f}\\n\\n\n",
    "    Saldo Atual: R$ {saldo_atual:,.2f}  \n",
    "    ###########################\n",
    "    '''\n",
    "    \n",
    "    return mensagem\n"
   ]
  },
  {
   "cell_type": "code",
   "execution_count": 26,
   "id": "38a52f7b-2ed3-4904-aa6f-80e72852016a",
   "metadata": {},
   "outputs": [
    {
     "data": {
      "application/vnd.jupyter.widget-view+json": {
       "model_id": "",
       "version_major": 2,
       "version_minor": 0
      },
      "text/plain": [
       "FloatProgress(value=0.0, bar_style='info', description='Progress:', layout=Layout(height='25px', width='50%'),…"
      ]
     },
     "metadata": {},
     "output_type": "display_data"
    }
   ],
   "source": [
    "\n",
    "# Envia a mensagem pelo slack\n",
    "\n",
    "def enviar_mensagem():\n",
    "    \n",
    "    url = \"para enviar a mensagem no salck\"\n",
    "    webhook = WebhookClient(url)\n",
    "    \n",
    "    response = webhook.send(text=montar_mensgem())\n",
    "    assert response.status_code == 200\n",
    "    assert response.body == \"ok\"\n",
    "    \n",
    "\n",
    "\n"
   ]
  },
  {
   "cell_type": "code",
   "execution_count": 28,
   "id": "03d29c0f-3394-4dab-990b-98c2c9901c43",
   "metadata": {},
   "outputs": [
    {
     "data": {
      "application/vnd.jupyter.widget-view+json": {
       "model_id": "",
       "version_major": 2,
       "version_minor": 0
      },
      "text/plain": [
       "FloatProgress(value=0.0, bar_style='info', description='Progress:', layout=Layout(height='25px', width='50%'),…"
      ]
     },
     "metadata": {},
     "output_type": "display_data"
    }
   ],
   "source": [
    "enviar_mensagem()"
   ]
  },
  {
   "cell_type": "code",
   "execution_count": null,
   "id": "133c60fd-7d1a-4c29-a584-5fcf8bf7955a",
   "metadata": {},
   "outputs": [],
   "source": []
  }
 ],
 "metadata": {
  "kernelspec": {
   "display_name": "PySpark",
   "language": "python",
   "name": "pysparkkernel"
  },
  "language_info": {
   "codemirror_mode": {
    "name": "python",
    "version": 3
   },
   "file_extension": ".py",
   "mimetype": "text/x-python",
   "name": "pyspark",
   "pygments_lexer": "python3"
  }
 },
 "nbformat": 4,
 "nbformat_minor": 5
}
